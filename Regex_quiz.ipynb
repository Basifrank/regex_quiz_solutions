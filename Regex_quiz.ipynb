{
  "cells": [
    {
      "cell_type": "markdown",
      "source": [
        "The check_web_address function checks if the text passed qualifies as a top-level web address, meaning that it contains alphanumeric characters (which includes letters, numbers, and underscores), as well as periods, dashes, and a plus sign, followed by a period and a character-only top-level domain such as \".com\", \".info\", \".edu\", etc. Fill in the regular expression to do that, using escape characters, wildcards, repetition qualifiers, beginning and end-of-line characters, and character classes."
      ],
      "metadata": {
        "id": "1R8meP7Pe11S"
      }
    },
    {
      "cell_type": "code",
      "source": [
        "import re\n"
      ],
      "metadata": {
        "id": "3O48vChRdrXg"
      },
      "execution_count": null,
      "outputs": []
    },
    {
      "cell_type": "code",
      "source": [
        "def check_web_address(text):\n",
        "  pattern = \"[\\w-]+\\.[a-zA-Z]+$\"\n",
        "  result = re.search(pattern, text)\n",
        "  return result != None\n",
        "\n"
      ],
      "metadata": {
        "id": "_oeZrehwdx2f"
      },
      "execution_count": null,
      "outputs": []
    },
    {
      "cell_type": "code",
      "source": [
        "print(check_web_address(\"gmail.com\")) # True\n",
        "print(check_web_address(\"www@google\")) # False\n",
        "print(check_web_address(\"www.Coursera.org\")) # True\n",
        "print(check_web_address(\"web-address.com/homepage\")) # False\n",
        "print(check_web_address(\"My_Favorite-Blog.US\")) # True"
      ],
      "metadata": {
        "id": "-yucoSCddyB0",
        "outputId": "cf4efca8-8b6c-4d63-917e-c3577ce8c57c",
        "colab": {
          "base_uri": "https://localhost:8080/"
        }
      },
      "execution_count": null,
      "outputs": [
        {
          "output_type": "stream",
          "name": "stdout",
          "text": [
            "True\n",
            "False\n",
            "True\n",
            "False\n",
            "True\n"
          ]
        }
      ]
    },
    {
      "cell_type": "markdown",
      "source": [
        "The check_time function checks for the time format of a 12-hour clock, as follows: the hour is between 1 and 12, with no leading zero, followed by a colon, then minutes between 00 and 59, then an optional space, and then AM or PM, in upper or lower case. Fill in the regular expression to do that. How many of the concepts that you just learned can you use here?"
      ],
      "metadata": {
        "id": "Szbc93dkdfFW"
      }
    },
    {
      "cell_type": "code",
      "source": [
        "import re\n",
        "def check_time(text):\n",
        "  pattern = \"^[1-9]+:[00-59]| [aApPMm]+$\"\n",
        "  result = re.search(pattern, text)\n",
        "  return result != None\n",
        "\n",
        "print(check_time(\"12:45pm\")) # True\n",
        "print(check_time(\"9:59 AM\")) # True\n",
        "print(check_time(\"6:60am\")) # False\n",
        "print(check_time(\"five o'clock\")) # False"
      ],
      "metadata": {
        "id": "j9hIEuy3drrI"
      },
      "execution_count": null,
      "outputs": []
    },
    {
      "cell_type": "markdown",
      "source": [
        "The contains_acronym function checks the text for the presence of 2 or more characters or digits surrounded by parentheses, with at least the first character in uppercase (if it's a letter), returning True if the condition is met, or False otherwise. For example, \"Instant messaging (IM) is a set of communication technologies used for text-based communication\" should return True since (IM) satisfies the match conditions.\" Fill in the regular expression in this function: "
      ],
      "metadata": {
        "id": "OWjRy2lhdmtk"
      }
    },
    {
      "cell_type": "code",
      "source": [
        "import re\n",
        "def contains_acronym(text):\n",
        "  pattern = \"\\(([A-Z1-9][a-zA-Z1-9]+)\\)\"\n",
        "  result = re.search(pattern, text)\n",
        "  return result != None"
      ],
      "metadata": {
        "id": "KNMsoTpKdlgQ"
      },
      "execution_count": null,
      "outputs": []
    },
    {
      "cell_type": "code",
      "source": [
        "print(contains_acronym(\"Instant messaging (IM) is a set of communication technologies used for text-based communication\")) # True\n",
        "print(contains_acronym(\"American Standard Code for Information Interchange (ASCII) is a character encoding standard for electronic communication\")) # True\n",
        "print(contains_acronym(\"Please do NOT enter without permission!\")) # False\n",
        "print(contains_acronym(\"PostScript is a fourth-generation programming language (4GL)\")) # True\n",
        "print(contains_acronym(\"Have fun using a self-contained underwater breathing apparatus (Scuba)!\")) # True"
      ],
      "metadata": {
        "colab": {
          "base_uri": "https://localhost:8080/"
        },
        "id": "BTIzS8lydlqV",
        "outputId": "c18fcc10-666e-4679-d698-4308d31fd2a5"
      },
      "execution_count": null,
      "outputs": [
        {
          "output_type": "stream",
          "name": "stdout",
          "text": [
            "True\n",
            "True\n",
            "False\n",
            "True\n",
            "True\n"
          ]
        }
      ]
    },
    {
      "cell_type": "code",
      "source": [],
      "metadata": {
        "id": "o_ocB3LFd0bn"
      },
      "execution_count": null,
      "outputs": []
    },
    {
      "cell_type": "markdown",
      "source": [
        "Question 6\n",
        "Fill in the code to check if the text passed includes a possible U.S. zip code, formatted as follows: exactly 5 digits, and sometimes, but not always, followed by a dash with 4 more digits. The zip code needs to be preceded by at least one space, and cannot be at the start of the text."
      ],
      "metadata": {
        "id": "gwfN6ZcDIgzd"
      }
    },
    {
      "cell_type": "code",
      "source": [
        "import re\n",
        "def check_zip_code (text):\n",
        "  result = re.search(r\" +\\d{5}|(\\-\\d{4})\", text)\n",
        "  return result != None\n",
        "\n",
        "print(check_zip_code(\"The zip codes for New York are 10001 thru 11104.\")) # True\n",
        "print(check_zip_code(\"90210 is a TV show\")) # False\n",
        "print(check_zip_code(\"Their address is: 123 Main Street, Anytown, AZ 85258-0001.\")) # True\n",
        "print(check_zip_code(\"The Parliament of Canada is at 111 Wellington St, Ottawa, ON K1A0A9.\")) # False"
      ],
      "metadata": {
        "id": "u1PtX_ead0md"
      },
      "execution_count": null,
      "outputs": []
    },
    {
      "cell_type": "code",
      "source": [],
      "metadata": {
        "id": "LZ2MyoiKdlyh"
      },
      "execution_count": null,
      "outputs": []
    }
  ],
  "metadata": {
    "colab": {
      "toc_visible": true,
      "provenance": []
    },
    "kernelspec": {
      "display_name": "Python 3",
      "name": "python3"
    }
  },
  "nbformat": 4,
  "nbformat_minor": 0
}